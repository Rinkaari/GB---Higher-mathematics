{
 "cells": [
  {
   "cell_type": "markdown",
   "metadata": {},
   "source": [
    "### Задание 1\n",
    "Напишите код, моделирующий выпадение поля в рулетке (с учетом поля зеро)."
   ]
  },
  {
   "cell_type": "code",
   "execution_count": 61,
   "metadata": {},
   "outputs": [],
   "source": [
    "import numpy as np\n",
    "import math"
   ]
  },
  {
   "cell_type": "code",
   "execution_count": 9,
   "metadata": {
    "scrolled": true
   },
   "outputs": [
    {
     "name": "stdout",
     "output_type": "stream",
     "text": [
      "\n",
      "Число красное\n",
      "\n",
      "Число красное\n",
      "\n",
      "Число красное\n",
      "\n",
      "Число черное\n",
      "\n",
      "Число черное\n",
      "\n",
      "Число черное\n",
      "\n",
      "Число черное\n",
      "\n",
      "Число черное\n",
      "\n",
      "Зеро\n",
      "\n",
      "Число красное\n"
     ]
    }
   ],
   "source": [
    "for i in range (10):\n",
    "    a = input()\n",
    "    x = np.random.uniform(0,37)\n",
    "    if x <= 35 and x <= 15:\n",
    "        print('Число черное')\n",
    "    elif x <= 35 and 16 <= x <= 35:\n",
    "        print('Число красное')\n",
    "    else:\n",
    "        print('Зеро')"
   ]
  },
  {
   "cell_type": "markdown",
   "metadata": {},
   "source": [
    "### Задание 2\n",
    "1) Напишите код, проверяющий любую из теорем сложения или умножения\n",
    "вероятности на примере подбрасывания монетки.\n",
    "\n",
    "2) Сгенерируйте десять выборок случайных чисел х0, …, х9.\n",
    "и постройте гистограмму распределения случайной суммы х0+х1+ …+ х9."
   ]
  },
  {
   "cell_type": "code",
   "execution_count": 78,
   "metadata": {},
   "outputs": [
    {
     "name": "stdout",
     "output_type": "stream",
     "text": [
      "43 57 25.0\n"
     ]
    }
   ],
   "source": [
    "k, m, s = 0,0,0\n",
    "n = 100\n",
    "l = []\n",
    "for i in range (n):\n",
    "    x = np.random.uniform(0,10)\n",
    "    if x<5:\n",
    "        #print('Орел')\n",
    "        k = k + 1\n",
    "        l.append('Орел')\n",
    "    else:\n",
    "        #print('Решка')\n",
    "        m = m + 1\n",
    "        l.append('Решка')\n",
    "    if l[i] == l[i-1]:\n",
    "        #print(l[i],l[i-1])\n",
    "        s = s + 1\n",
    "print(k,m,(s-1)/2)"
   ]
  },
  {
   "cell_type": "code",
   "execution_count": 80,
   "metadata": {},
   "outputs": [
    {
     "name": "stdout",
     "output_type": "stream",
     "text": [
      "True\n",
      "True\n"
     ]
    }
   ],
   "source": [
    "#Выпадение Решки и Орла - несовместимые события, сумма вероятностей равна 1\n",
    "#Теорема сложения вероятности\n",
    "print(k/n + m/n == 1)\n",
    "#Выпадение Решки и Орла - независимые события, вероятность выпадения два раза подряд решки или орла = 0.25 (0.5 * 0.5)\n",
    "#Теорема умножения вероятности\n",
    "print(round((s-1)/2/n,2) == 0.25)"
   ]
  },
  {
   "cell_type": "code",
   "execution_count": 11,
   "metadata": {},
   "outputs": [],
   "source": [
    "import matplotlib.pyplot as plt\n",
    "%matplotlib inline"
   ]
  },
  {
   "cell_type": "code",
   "execution_count": 32,
   "metadata": {},
   "outputs": [
    {
     "data": {
      "text/plain": [
       "(array([1., 0., 2., 0., 1., 1., 1., 1., 0., 3.]),\n",
       " array([0.01441149, 0.08568696, 0.15696243, 0.2282379 , 0.29951338,\n",
       "        0.37078885, 0.44206432, 0.51333979, 0.58461526, 0.65589073,\n",
       "        0.7271662 ]),\n",
       " <a list of 10 Patch objects>)"
      ]
     },
     "execution_count": 32,
     "metadata": {},
     "output_type": "execute_result"
    },
    {
     "data": {
      "image/png": "[encoded data removed]",
      "text/plain": [
       "<Figure size 432x288 with 1 Axes>"
      ]
     },
     "metadata": {
      "needs_background": "light"
     },
     "output_type": "display_data"
    }
   ],
   "source": [
    "x = np.random.rand(10)\n",
    "num_bins = 10\n",
    "plt.hist(x, num_bins)\n",
    "#не понял что значит \"распределение случайной суммы\""
   ]
  },
  {
   "cell_type": "code",
   "execution_count": 33,
   "metadata": {},
   "outputs": [
    {
     "data": {
      "text/plain": [
       "(array([0., 0., 0., 0., 0., 1., 0., 0., 0., 0.]),\n",
       " array([3.78968692, 3.88968692, 3.98968692, 4.08968692, 4.18968692,\n",
       "        4.28968692, 4.38968692, 4.48968692, 4.58968692, 4.68968692,\n",
       "        4.78968692]),\n",
       " <a list of 10 Patch objects>)"
      ]
     },
     "execution_count": 33,
     "metadata": {},
     "output_type": "execute_result"
    },
    {
     "data": {
      "image/png": "[encoded data removed]",
      "text/plain": [
       "<Figure size 432x288 with 1 Axes>"
      ]
     },
     "metadata": {
      "needs_background": "light"
     },
     "output_type": "display_data"
    }
   ],
   "source": [
    "#врядли это\n",
    "plt.hist(sum(x), num_bins)"
   ]
  },
  {
   "cell_type": "markdown",
   "metadata": {},
   "source": [
    "### Задание 3\n",
    "Дополните код Монте-Карло последовательности независимых испытаний\n",
    "расчетом соответствующих вероятностей (через биномиальное распределение)\n",
    "и сравните результаты.\n",
    "Повторите расчеты, взяв другие значения n и k."
   ]
  },
  {
   "cell_type": "code",
   "execution_count": 116,
   "metadata": {},
   "outputs": [
    {
     "name": "stdout",
     "output_type": "stream",
     "text": [
      "27 50 0.54\n",
      "0.09596168603351884\n"
     ]
    }
   ],
   "source": [
    "k, n  = 0, 50\n",
    "a = np.random.randint(0,2,n)\n",
    "b = np.random.randint(0,2,n)\n",
    "c = np.random.randint(0,2,n)\n",
    "d = np.random.randint(0,2,n)\n",
    "x = a + b + c + d\n",
    "for i in range (0,n):\n",
    "    if x[i] == 2:\n",
    "        k = k+1\n",
    "print(k,n,k/n)\n",
    "\n",
    "Coef_kn = math.factorial(n)/(math.factorial(k)*math.factorial(n-k))\n",
    "P = Coef_kn/(2**n)\n",
    "print(P)\n",
    "#При 10 попытках,3 успехах: по методу Монте Карло - 0.3, по формуле Бернулли - 0.1171\n",
    "#При 50 попытках,27 успехах: по методу Монте Карло - 0.54, по формуле Бернулли - 0.0959"
   ]
  },
  {
   "cell_type": "markdown",
   "metadata": {},
   "source": [
    "### Задание 4\n",
    "\n",
    "Повторите расчеты, взяв другие значения n и k."
   ]
  },
  {
   "cell_type": "code",
   "execution_count": 121,
   "metadata": {},
   "outputs": [],
   "source": [
    "import itertools"
   ]
  },
  {
   "cell_type": "code",
   "execution_count": 147,
   "metadata": {},
   "outputs": [
    {
     "name": "stdout",
     "output_type": "stream",
     "text": [
      "012\n",
      "021\n",
      "102\n",
      "120\n",
      "201\n",
      "210\n"
     ]
    }
   ],
   "source": [
    "for p in itertools.permutations('012',3):\n",
    "    print(''.join(str(x) for x in p))"
   ]
  },
  {
   "cell_type": "code",
   "execution_count": 145,
   "metadata": {},
   "outputs": [
    {
     "name": "stdout",
     "output_type": "stream",
     "text": [
      "012\n"
     ]
    }
   ],
   "source": [
    "for p in itertools.combinations('012',3):\n",
    "    print(''.join(p))"
   ]
  },
  {
   "cell_type": "code",
   "execution_count": 144,
   "metadata": {},
   "outputs": [
    {
     "name": "stdout",
     "output_type": "stream",
     "text": [
      "000\n",
      "001\n",
      "002\n",
      "010\n",
      "011\n",
      "012\n",
      "020\n",
      "021\n",
      "022\n",
      "100\n",
      "101\n",
      "102\n",
      "110\n",
      "111\n",
      "112\n",
      "120\n",
      "121\n",
      "122\n",
      "200\n",
      "201\n",
      "202\n",
      "210\n",
      "211\n",
      "212\n",
      "220\n",
      "221\n",
      "222\n"
     ]
    }
   ],
   "source": [
    "for p in itertools.product('012',repeat = 3):\n",
    "    print(''.join(p))"
   ]
  },
  {
   "cell_type": "markdown",
   "metadata": {},
   "source": [
    "### Задание 5\n",
    "Дополните код расчетом коэффициента корреляции x и y по формуле"
   ]
  },
  {
   "cell_type": "code",
   "execution_count": 157,
   "metadata": {},
   "outputs": [
    {
     "name": "stdout",
     "output_type": "stream",
     "text": [
      "0.6845028341349259 0.15439093098935663\n",
      "0.6845028341349256 0.15439093098935655\n"
     ]
    },
    {
     "name": "stderr",
     "output_type": "stream",
     "text": [
      "C:\\Users\\HyperPC\\Anaconda3\\lib\\site-packages\\ipykernel_launcher.py:14: FutureWarning: `rcond` parameter will change to the default of machine precision times ``max(M, N)`` where M and N are the input matrix dimensions.\n",
      "To use the future default and silence this warning we advise to pass `rcond=None`, to keep using the old, explicitly pass `rcond=-1`.\n",
      "  \n"
     ]
    },
    {
     "data": {
      "image/png": "[encoded data removed]",
      "text/plain": [
       "<Figure size 432x288 with 1 Axes>"
      ]
     },
     "metadata": {
      "needs_background": "light"
     },
     "output_type": "display_data"
    },
    {
     "data": {
      "text/plain": [
       "(0.9018456707707818, 0.901845670770782)"
      ]
     },
     "execution_count": 157,
     "metadata": {},
     "output_type": "execute_result"
    }
   ],
   "source": [
    "n = 100\n",
    "r = 0.7\n",
    "x = np.random.rand(n)\n",
    "y = r*x + (1 - r)*np.random.rand(n)\n",
    "plt.plot(x, y, 'o')\n",
    "plt.xlabel('x')\n",
    "plt.ylabel('y')\n",
    "plt.grid(True)\n",
    "\n",
    "a = (np.sum(x)*np.sum(y) - n*np.sum(x*y))/(np.sum(x)*np.sum(x) - n*np.sum(x*x))\n",
    "b = (np.sum(y) - a*np.sum(x))/n\n",
    "\n",
    "A = np.vstack([x, np.ones(len(x))]).T\n",
    "a1, b1 = np.linalg.lstsq(A, y)[0]\n",
    "print(a, b)\n",
    "print(a1, b1)\n",
    "plt.plot([0, 1], [b, a + b])\n",
    "plt.show()\n",
    "\n",
    "#Дополняем и проверяем\n",
    "c = np.corrcoef(x,y)\n",
    "C = np.sum( (x - np.mean(x)) * (y - np.mean(y)) ) / np.sqrt(np.sum( (x - np.mean(x))**2 ) * np.sum( (y - np.mean(y))**2 ))\n",
    "c[0,1], C"
   ]
  }
 ],
 "metadata": {
  "kernelspec": {
   "display_name": "Python 3",
   "language": "python",
   "name": "python3"
  },
  "language_info": {
   "codemirror_mode": {
    "name": "ipython",
    "version": 3
   },
   "file_extension": ".py",
   "mimetype": "text/x-python",
   "name": "python",
   "nbconvert_exporter": "python",
   "pygments_lexer": "ipython3",
   "version": "3.7.1"
  }
 },
 "nbformat": 4,
 "nbformat_minor": 2
}
