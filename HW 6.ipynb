{
 "cells": [
  {
   "cell_type": "markdown",
   "metadata": {},
   "source": [
    "### 1. Решите линейную систему:"
   ]
  },
  {
   "cell_type": "code",
   "execution_count": 1,
   "metadata": {},
   "outputs": [
    {
     "name": "stdout",
     "output_type": "stream",
     "text": [
      "[-9.2         0.9         6.46666667]\n"
     ]
    }
   ],
   "source": [
    "import numpy as np\n",
    "A = np.array([[1,2,3],\n",
    "              [4,0,6],\n",
    "              [7,8,9]])\n",
    "B = np.array([12,2,1])\n",
    "s = np.linalg.solve(A,B)\n",
    "print(s)"
   ]
  },
  {
   "cell_type": "markdown",
   "metadata": {},
   "source": [
    "### 2. Найдите псевдорешение:"
   ]
  },
  {
   "cell_type": "code",
   "execution_count": 2,
   "metadata": {},
   "outputs": [
    {
     "name": "stdout",
     "output_type": "stream",
     "text": [
      "(array([ 1.15601029, -0.889718  , -0.85029782]), array([0.66772534]), 3, array([14.89650167, 10.4695886 ,  2.73531577]))\n"
     ]
    }
   ],
   "source": [
    "t = np.array([[1,2,-1],\n",
    "              [3,-4,0],\n",
    "              [8,-5,2],\n",
    "              [2,-5,0],\n",
    "              [11,4,-7]])\n",
    "z = np.array([1,7,12,7,15])\n",
    "s = np.linalg.lstsq(t,z, rcond=-1)\n",
    "print(s)"
   ]
  },
  {
   "cell_type": "markdown",
   "metadata": {},
   "source": [
    "### 3. Сколько решений имеет линейная система:\n",
    "Если ноль – то измените вектор правой части так, чтобы система стала совместной, и решите ее. "
   ]
  },
  {
   "cell_type": "code",
   "execution_count": 3,
   "metadata": {},
   "outputs": [
    {
     "name": "stdout",
     "output_type": "stream",
     "text": [
      "-9.51619735392994e-16\n",
      "[-0.23333333  0.46666667  0.1       ]\n"
     ]
    }
   ],
   "source": [
    "A = np.array([[1,2,3],\n",
    "              [4,5,6],\n",
    "              [7,8,9]])\n",
    "B = np.array([2,5,1])### в задании по ссылке [12,2,1]\n",
    "d = np.linalg.det(A)\n",
    "print(d) #значение нулевое\n",
    "\n",
    "B = np.array([1,2,3]) ### меняем значение правого вектора\n",
    "s = np.linalg.solve(A,B)\n",
    "print(s) #одно решение"
   ]
  },
  {
   "cell_type": "markdown",
   "metadata": {},
   "source": [
    "### 4. Вычислите LU-разложение матрицы:\n",
    "После этого придумайте вектор правых частей и решите полученную линейную систему трех уравнений с данной матрицей."
   ]
  },
  {
   "cell_type": "code",
   "execution_count": 4,
   "metadata": {},
   "outputs": [
    {
     "name": "stdout",
     "output_type": "stream",
     "text": [
      "[[0. 1. 0.]\n",
      " [0. 0. 1.]\n",
      " [1. 0. 0.]]\n",
      "[[ 1.    0.    0.  ]\n",
      " [ 0.25  1.    0.  ]\n",
      " [ 0.5  -0.4   1.  ]]\n",
      "[[  4.    28.    73.  ]\n",
      " [  0.    -5.   -15.25]\n",
      " [  0.     0.   -21.6 ]]\n",
      "432.00000000000017\n",
      "[ 4.5   4.75 -2.  ]\n"
     ]
    }
   ],
   "source": [
    " import scipy.linalg\n",
    "A = np.array([[1,2,3],[2,16,21],[4,28,73]])\n",
    "P, L, U = scipy.linalg.lu(A)\n",
    "print(P)\n",
    "print(L)\n",
    "print(U)\n",
    "d = np.linalg.det(A)\n",
    "print(d)\n",
    "B = np.array([8,43,5])# - вектор правой части\n",
    "s = np.linalg.solve(A,B)\n",
    "print(s)\n",
    "#в чем смысл разложения LU с точки зрения кода на питоне? выглядит как лишния операция, все равно же решается через solve с А"
   ]
  },
  {
   "cell_type": "markdown",
   "metadata": {},
   "source": [
    "### 5. Найдите нормальное псевдорешение недоопределенной системы:\n",
    "Для этого определите функцию Q(x,y,z), равную норме решения, и найдите ее минимум. "
   ]
  },
  {
   "cell_type": "code",
   "execution_count": 10,
   "metadata": {},
   "outputs": [
    {
     "data": {
      "image/png": "[encoded data removed]",
      "text/plain": [
       "<Figure size 432x288 with 1 Axes>"
      ]
     },
     "metadata": {
      "needs_background": "light"
     },
     "output_type": "display_data"
    },
    {
     "data": {
      "text/plain": [
       "(array([ 1.38191882, -0.18081181,  0.0202952 ]),\n",
       " array([], dtype=float64),\n",
       " 2,\n",
       " array([9.65316119, 2.41173777]))"
      ]
     },
     "execution_count": 10,
     "metadata": {},
     "output_type": "execute_result"
    }
   ],
   "source": [
    "import matplotlib.pyplot as plt\n",
    "\n",
    "A = np.array([[1,2,-1],[8,-5,2]])\n",
    "B = np.array([1,12])\n",
    "\n",
    "def Q(x,y,z):\n",
    "    return (x**2 + y**2 + z**2)\n",
    "\n",
    "x = np.linspace(-5,5,201)\n",
    "z = np.linspace(-5,5,201)\n",
    "plt.plot(x, Q(x,(x-z-1)/2,z))\n",
    "plt.plot(x, Q(x,(8*x-1*z-11)/5,z))\n",
    "plt.xlabel('x')\n",
    "plt.ylabel('y')\n",
    "plt.show()\n",
    "\n",
    "np.linalg.lstsq(A,B,rcond=-1)\n",
    "#ну, значение x похоже на представленное на графике\n",
    "#есть подозрение, что нужно использовать mplot3D, тк Z тут не видно"
   ]
  },
  {
   "cell_type": "code",
   "execution_count": 8,
   "metadata": {},
   "outputs": [
    {
     "ename": "AttributeError",
     "evalue": "'numpy.ndarray' object has no attribute 'has_data'",
     "output_type": "error",
     "traceback": [
      "\u001b[1;31m---------------------------------------------------------------------------\u001b[0m",
      "\u001b[1;31mAttributeError\u001b[0m                            Traceback (most recent call last)",
      "\u001b[1;32m<ipython-input-8-71a92d478813>\u001b[0m in \u001b[0;36m<module>\u001b[1;34m\u001b[0m\n\u001b[0;32m      7\u001b[0m \u001b[0mz\u001b[0m \u001b[1;33m=\u001b[0m \u001b[0mx\u001b[0m \u001b[1;33m+\u001b[0m \u001b[1;36m2\u001b[0m\u001b[1;33m*\u001b[0m\u001b[0my\u001b[0m \u001b[1;33m-\u001b[0m \u001b[1;36m1\u001b[0m\u001b[1;33m\u001b[0m\u001b[1;33m\u001b[0m\u001b[0m\n\u001b[0;32m      8\u001b[0m \u001b[1;33m\u001b[0m\u001b[0m\n\u001b[1;32m----> 9\u001b[1;33m \u001b[0mAxes3D\u001b[0m\u001b[1;33m.\u001b[0m\u001b[0mplot\u001b[0m\u001b[1;33m(\u001b[0m\u001b[0mx\u001b[0m\u001b[1;33m,\u001b[0m \u001b[0my\u001b[0m\u001b[1;33m,\u001b[0m \u001b[0mz\u001b[0m\u001b[1;33m)\u001b[0m\u001b[1;33m\u001b[0m\u001b[1;33m\u001b[0m\u001b[0m\n\u001b[0m",
      "\u001b[1;32m~\\Anaconda3\\lib\\site-packages\\mpl_toolkits\\mplot3d\\axes3d.py\u001b[0m in \u001b[0;36mplot\u001b[1;34m(self, xs, ys, zdir, *args, **kwargs)\u001b[0m\n\u001b[0;32m   1523\u001b[0m         \u001b[1;33m:\u001b[0m\u001b[0mfunc\u001b[0m\u001b[1;33m:\u001b[0m\u001b[0;31m`\u001b[0m\u001b[1;33m~\u001b[0m\u001b[0mmatplotlib\u001b[0m\u001b[1;33m.\u001b[0m\u001b[0maxes\u001b[0m\u001b[1;33m.\u001b[0m\u001b[0mAxes\u001b[0m\u001b[1;33m.\u001b[0m\u001b[0mplot\u001b[0m\u001b[0;31m`\u001b[0m\u001b[1;33m\u001b[0m\u001b[1;33m\u001b[0m\u001b[0m\n\u001b[0;32m   1524\u001b[0m         '''\n\u001b[1;32m-> 1525\u001b[1;33m         \u001b[0mhad_data\u001b[0m \u001b[1;33m=\u001b[0m \u001b[0mself\u001b[0m\u001b[1;33m.\u001b[0m\u001b[0mhas_data\u001b[0m\u001b[1;33m(\u001b[0m\u001b[1;33m)\u001b[0m\u001b[1;33m\u001b[0m\u001b[1;33m\u001b[0m\u001b[0m\n\u001b[0m\u001b[0;32m   1526\u001b[0m \u001b[1;33m\u001b[0m\u001b[0m\n\u001b[0;32m   1527\u001b[0m         \u001b[1;31m# `zs` can be passed positionally or as keyword; checking whether\u001b[0m\u001b[1;33m\u001b[0m\u001b[1;33m\u001b[0m\u001b[1;33m\u001b[0m\u001b[0m\n",
      "\u001b[1;31mAttributeError\u001b[0m: 'numpy.ndarray' object has no attribute 'has_data'"
     ]
    }
   ],
   "source": [
    "#но что-то я не понял как это делать, как выражать z в этом случае?\n",
    "import matplotlib.pyplot as plt\n",
    "from mpl_toolkits.mplot3d import Axes3D\n",
    "\n",
    "x = np.linspace(0, 15, 201)\n",
    "y = (x - z - 1)/2\n",
    "z = x + 2*y - 1\n",
    "\n",
    "Axes3D.plot(x, y, z)"
   ]
  },
  {
   "cell_type": "markdown",
   "metadata": {},
   "source": [
    "### 6. Найдите одно из псевдорешений вырожденной системы:\n",
    "Попробуйте также отыскать и нормальное псевдорешение."
   ]
  },
  {
   "cell_type": "code",
   "execution_count": 9,
   "metadata": {},
   "outputs": [
    {
     "name": "stdout",
     "output_type": "stream",
     "text": [
      "[1.50000000e+00 9.45096256e-15 0.00000000e+00]\n",
      "1.4999999999999893\n",
      "(array([ 1.25,  0.5 , -0.25]), array([], dtype=float64), 2, array([1.68481034e+01, 1.06836951e+00, 3.33475287e-16]))\n",
      "1.3693063937629126\n"
     ]
    },
    {
     "data": {
      "text/plain": [
       "True"
      ]
     },
     "execution_count": 9,
     "metadata": {},
     "output_type": "execute_result"
    }
   ],
   "source": [
    "A = np.array([[1,2,3],\n",
    "              [4,5,6],\n",
    "              [7,8,9]])\n",
    "\n",
    "B = np.array([2,5,11])\n",
    "\n",
    "Q,R = np.linalg.qr(A)\n",
    "R1 = R[:2,:2]\n",
    "B1 = np.dot(Q.T,B)[:2]\n",
    "X1 = np.linalg.solve(R1,B1)\n",
    "X = np.append(X1,0)\n",
    "n = np.linalg.norm(X)\n",
    "print(X) #псевдорешение\n",
    "print(n) #норма псевдорешения\n",
    "\n",
    "nS = np.linalg.lstsq(A,B, rcond=-1) #найдем нормальное псевдорешение, такое, чтобы n было минимальным при значениях X\n",
    "print(nS)\n",
    "m = nS[0] #нормальное псевдорешение\n",
    "mn = np.linalg.norm(m) #минимальная норма\n",
    "print(mn)\n",
    "mn < n"
   ]
  },
  {
   "cell_type": "code",
   "execution_count": null,
   "metadata": {},
   "outputs": [],
   "source": []
  }
 ],
 "metadata": {
  "kernelspec": {
   "display_name": "Python 3",
   "language": "python",
   "name": "python3"
  },
  "language_info": {
   "codemirror_mode": {
    "name": "ipython",
    "version": 3
   },
   "file_extension": ".py",
   "mimetype": "text/x-python",
   "name": "python",
   "nbconvert_exporter": "python",
   "pygments_lexer": "ipython3",
   "version": "3.7.1"
  }
 },
 "nbformat": 4,
 "nbformat_minor": 2
}
